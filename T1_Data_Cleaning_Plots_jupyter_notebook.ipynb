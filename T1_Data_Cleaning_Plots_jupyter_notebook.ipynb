{
  "cells": [
    {
      "cell_type": "markdown",
      "metadata": {
        "id": "view-in-github",
        "colab_type": "text"
      },
      "source": [
        "<a href=\"https://colab.research.google.com/github/Xavier-ML/Machine-Learning-Data-Science-en-Python-Teoria-y-practica./blob/main/T1_Data_Cleaning_Plots.ipynb\" target=\"_parent\"><img src=\"https://colab.research.google.com/assets/colab-badge.svg\" alt=\"Open In Colab\"/></a>"
      ]
    },
    {
      "cell_type": "markdown",
      "id": "d80f9b04",
      "metadata": {
        "id": "d80f9b04"
      },
      "source": [
        "# Plots y visualización de los datos"
      ]
    },
    {
      "cell_type": "code",
      "execution_count": null,
      "id": "c92a6f57",
      "metadata": {
        "id": "c92a6f57"
      },
      "outputs": [],
      "source": [
        "import pandas as pd\n",
        "import numpy  as np\n",
        "import matplotlib.pyplot as plt"
      ]
    },
    {
      "cell_type": "code",
      "execution_count": null,
      "id": "b05be77c",
      "metadata": {
        "id": "b05be77c"
      },
      "outputs": [],
      "source": [
        "data = pd.read_csv(r\"C:\\Users\\HOME\\Desktop\\ML\\python-ml-course-master\\datasets\\customer-churn-model\\Customer Churn Model.txt\")"
      ]
    },
    {
      "cell_type": "code",
      "execution_count": null,
      "id": "790126f0",
      "metadata": {
        "id": "790126f0",
        "outputId": "18c27ccd-c4ed-45d8-8d4f-698408056c5e"
      },
      "outputs": [
        {
          "data": {
            "text/html": [
              "<div>\n",
              "<style scoped>\n",
              "    .dataframe tbody tr th:only-of-type {\n",
              "        vertical-align: middle;\n",
              "    }\n",
              "\n",
              "    .dataframe tbody tr th {\n",
              "        vertical-align: top;\n",
              "    }\n",
              "\n",
              "    .dataframe thead th {\n",
              "        text-align: right;\n",
              "    }\n",
              "</style>\n",
              "<table border=\"1\" class=\"dataframe\">\n",
              "  <thead>\n",
              "    <tr style=\"text-align: right;\">\n",
              "      <th></th>\n",
              "      <th>State</th>\n",
              "      <th>Account Length</th>\n",
              "      <th>Area Code</th>\n",
              "      <th>Phone</th>\n",
              "      <th>Int'l Plan</th>\n",
              "      <th>VMail Plan</th>\n",
              "      <th>VMail Message</th>\n",
              "      <th>Day Mins</th>\n",
              "      <th>Day Calls</th>\n",
              "      <th>Day Charge</th>\n",
              "      <th>...</th>\n",
              "      <th>Eve Calls</th>\n",
              "      <th>Eve Charge</th>\n",
              "      <th>Night Mins</th>\n",
              "      <th>Night Calls</th>\n",
              "      <th>Night Charge</th>\n",
              "      <th>Intl Mins</th>\n",
              "      <th>Intl Calls</th>\n",
              "      <th>Intl Charge</th>\n",
              "      <th>CustServ Calls</th>\n",
              "      <th>Churn?</th>\n",
              "    </tr>\n",
              "  </thead>\n",
              "  <tbody>\n",
              "    <tr>\n",
              "      <th>0</th>\n",
              "      <td>KS</td>\n",
              "      <td>128</td>\n",
              "      <td>415</td>\n",
              "      <td>382-4657</td>\n",
              "      <td>no</td>\n",
              "      <td>yes</td>\n",
              "      <td>25</td>\n",
              "      <td>265.1</td>\n",
              "      <td>110</td>\n",
              "      <td>45.07</td>\n",
              "      <td>...</td>\n",
              "      <td>99</td>\n",
              "      <td>16.78</td>\n",
              "      <td>244.7</td>\n",
              "      <td>91</td>\n",
              "      <td>11.01</td>\n",
              "      <td>10.0</td>\n",
              "      <td>3</td>\n",
              "      <td>2.70</td>\n",
              "      <td>1</td>\n",
              "      <td>False.</td>\n",
              "    </tr>\n",
              "    <tr>\n",
              "      <th>1</th>\n",
              "      <td>OH</td>\n",
              "      <td>107</td>\n",
              "      <td>415</td>\n",
              "      <td>371-7191</td>\n",
              "      <td>no</td>\n",
              "      <td>yes</td>\n",
              "      <td>26</td>\n",
              "      <td>161.6</td>\n",
              "      <td>123</td>\n",
              "      <td>27.47</td>\n",
              "      <td>...</td>\n",
              "      <td>103</td>\n",
              "      <td>16.62</td>\n",
              "      <td>254.4</td>\n",
              "      <td>103</td>\n",
              "      <td>11.45</td>\n",
              "      <td>13.7</td>\n",
              "      <td>3</td>\n",
              "      <td>3.70</td>\n",
              "      <td>1</td>\n",
              "      <td>False.</td>\n",
              "    </tr>\n",
              "    <tr>\n",
              "      <th>2</th>\n",
              "      <td>NJ</td>\n",
              "      <td>137</td>\n",
              "      <td>415</td>\n",
              "      <td>358-1921</td>\n",
              "      <td>no</td>\n",
              "      <td>no</td>\n",
              "      <td>0</td>\n",
              "      <td>243.4</td>\n",
              "      <td>114</td>\n",
              "      <td>41.38</td>\n",
              "      <td>...</td>\n",
              "      <td>110</td>\n",
              "      <td>10.30</td>\n",
              "      <td>162.6</td>\n",
              "      <td>104</td>\n",
              "      <td>7.32</td>\n",
              "      <td>12.2</td>\n",
              "      <td>5</td>\n",
              "      <td>3.29</td>\n",
              "      <td>0</td>\n",
              "      <td>False.</td>\n",
              "    </tr>\n",
              "    <tr>\n",
              "      <th>3</th>\n",
              "      <td>OH</td>\n",
              "      <td>84</td>\n",
              "      <td>408</td>\n",
              "      <td>375-9999</td>\n",
              "      <td>yes</td>\n",
              "      <td>no</td>\n",
              "      <td>0</td>\n",
              "      <td>299.4</td>\n",
              "      <td>71</td>\n",
              "      <td>50.90</td>\n",
              "      <td>...</td>\n",
              "      <td>88</td>\n",
              "      <td>5.26</td>\n",
              "      <td>196.9</td>\n",
              "      <td>89</td>\n",
              "      <td>8.86</td>\n",
              "      <td>6.6</td>\n",
              "      <td>7</td>\n",
              "      <td>1.78</td>\n",
              "      <td>2</td>\n",
              "      <td>False.</td>\n",
              "    </tr>\n",
              "    <tr>\n",
              "      <th>4</th>\n",
              "      <td>OK</td>\n",
              "      <td>75</td>\n",
              "      <td>415</td>\n",
              "      <td>330-6626</td>\n",
              "      <td>yes</td>\n",
              "      <td>no</td>\n",
              "      <td>0</td>\n",
              "      <td>166.7</td>\n",
              "      <td>113</td>\n",
              "      <td>28.34</td>\n",
              "      <td>...</td>\n",
              "      <td>122</td>\n",
              "      <td>12.61</td>\n",
              "      <td>186.9</td>\n",
              "      <td>121</td>\n",
              "      <td>8.41</td>\n",
              "      <td>10.1</td>\n",
              "      <td>3</td>\n",
              "      <td>2.73</td>\n",
              "      <td>3</td>\n",
              "      <td>False.</td>\n",
              "    </tr>\n",
              "    <tr>\n",
              "      <th>5</th>\n",
              "      <td>AL</td>\n",
              "      <td>118</td>\n",
              "      <td>510</td>\n",
              "      <td>391-8027</td>\n",
              "      <td>yes</td>\n",
              "      <td>no</td>\n",
              "      <td>0</td>\n",
              "      <td>223.4</td>\n",
              "      <td>98</td>\n",
              "      <td>37.98</td>\n",
              "      <td>...</td>\n",
              "      <td>101</td>\n",
              "      <td>18.75</td>\n",
              "      <td>203.9</td>\n",
              "      <td>118</td>\n",
              "      <td>9.18</td>\n",
              "      <td>6.3</td>\n",
              "      <td>6</td>\n",
              "      <td>1.70</td>\n",
              "      <td>0</td>\n",
              "      <td>False.</td>\n",
              "    </tr>\n",
              "    <tr>\n",
              "      <th>6</th>\n",
              "      <td>MA</td>\n",
              "      <td>121</td>\n",
              "      <td>510</td>\n",
              "      <td>355-9993</td>\n",
              "      <td>no</td>\n",
              "      <td>yes</td>\n",
              "      <td>24</td>\n",
              "      <td>218.2</td>\n",
              "      <td>88</td>\n",
              "      <td>37.09</td>\n",
              "      <td>...</td>\n",
              "      <td>108</td>\n",
              "      <td>29.62</td>\n",
              "      <td>212.6</td>\n",
              "      <td>118</td>\n",
              "      <td>9.57</td>\n",
              "      <td>7.5</td>\n",
              "      <td>7</td>\n",
              "      <td>2.03</td>\n",
              "      <td>3</td>\n",
              "      <td>False.</td>\n",
              "    </tr>\n",
              "    <tr>\n",
              "      <th>7</th>\n",
              "      <td>MO</td>\n",
              "      <td>147</td>\n",
              "      <td>415</td>\n",
              "      <td>329-9001</td>\n",
              "      <td>yes</td>\n",
              "      <td>no</td>\n",
              "      <td>0</td>\n",
              "      <td>157.0</td>\n",
              "      <td>79</td>\n",
              "      <td>26.69</td>\n",
              "      <td>...</td>\n",
              "      <td>94</td>\n",
              "      <td>8.76</td>\n",
              "      <td>211.8</td>\n",
              "      <td>96</td>\n",
              "      <td>9.53</td>\n",
              "      <td>7.1</td>\n",
              "      <td>6</td>\n",
              "      <td>1.92</td>\n",
              "      <td>0</td>\n",
              "      <td>False.</td>\n",
              "    </tr>\n",
              "    <tr>\n",
              "      <th>8</th>\n",
              "      <td>LA</td>\n",
              "      <td>117</td>\n",
              "      <td>408</td>\n",
              "      <td>335-4719</td>\n",
              "      <td>no</td>\n",
              "      <td>no</td>\n",
              "      <td>0</td>\n",
              "      <td>184.5</td>\n",
              "      <td>97</td>\n",
              "      <td>31.37</td>\n",
              "      <td>...</td>\n",
              "      <td>80</td>\n",
              "      <td>29.89</td>\n",
              "      <td>215.8</td>\n",
              "      <td>90</td>\n",
              "      <td>9.71</td>\n",
              "      <td>8.7</td>\n",
              "      <td>4</td>\n",
              "      <td>2.35</td>\n",
              "      <td>1</td>\n",
              "      <td>False.</td>\n",
              "    </tr>\n",
              "    <tr>\n",
              "      <th>9</th>\n",
              "      <td>WV</td>\n",
              "      <td>141</td>\n",
              "      <td>415</td>\n",
              "      <td>330-8173</td>\n",
              "      <td>yes</td>\n",
              "      <td>yes</td>\n",
              "      <td>37</td>\n",
              "      <td>258.6</td>\n",
              "      <td>84</td>\n",
              "      <td>43.96</td>\n",
              "      <td>...</td>\n",
              "      <td>111</td>\n",
              "      <td>18.87</td>\n",
              "      <td>326.4</td>\n",
              "      <td>97</td>\n",
              "      <td>14.69</td>\n",
              "      <td>11.2</td>\n",
              "      <td>5</td>\n",
              "      <td>3.02</td>\n",
              "      <td>0</td>\n",
              "      <td>False.</td>\n",
              "    </tr>\n",
              "    <tr>\n",
              "      <th>10</th>\n",
              "      <td>IN</td>\n",
              "      <td>65</td>\n",
              "      <td>415</td>\n",
              "      <td>329-6603</td>\n",
              "      <td>no</td>\n",
              "      <td>no</td>\n",
              "      <td>0</td>\n",
              "      <td>129.1</td>\n",
              "      <td>137</td>\n",
              "      <td>21.95</td>\n",
              "      <td>...</td>\n",
              "      <td>83</td>\n",
              "      <td>19.42</td>\n",
              "      <td>208.8</td>\n",
              "      <td>111</td>\n",
              "      <td>9.40</td>\n",
              "      <td>12.7</td>\n",
              "      <td>6</td>\n",
              "      <td>3.43</td>\n",
              "      <td>4</td>\n",
              "      <td>True.</td>\n",
              "    </tr>\n",
              "    <tr>\n",
              "      <th>11</th>\n",
              "      <td>RI</td>\n",
              "      <td>74</td>\n",
              "      <td>415</td>\n",
              "      <td>344-9403</td>\n",
              "      <td>no</td>\n",
              "      <td>no</td>\n",
              "      <td>0</td>\n",
              "      <td>187.7</td>\n",
              "      <td>127</td>\n",
              "      <td>31.91</td>\n",
              "      <td>...</td>\n",
              "      <td>148</td>\n",
              "      <td>13.89</td>\n",
              "      <td>196.0</td>\n",
              "      <td>94</td>\n",
              "      <td>8.82</td>\n",
              "      <td>9.1</td>\n",
              "      <td>5</td>\n",
              "      <td>2.46</td>\n",
              "      <td>0</td>\n",
              "      <td>False.</td>\n",
              "    </tr>\n",
              "    <tr>\n",
              "      <th>12</th>\n",
              "      <td>IA</td>\n",
              "      <td>168</td>\n",
              "      <td>408</td>\n",
              "      <td>363-1107</td>\n",
              "      <td>no</td>\n",
              "      <td>no</td>\n",
              "      <td>0</td>\n",
              "      <td>128.8</td>\n",
              "      <td>96</td>\n",
              "      <td>21.90</td>\n",
              "      <td>...</td>\n",
              "      <td>71</td>\n",
              "      <td>8.92</td>\n",
              "      <td>141.1</td>\n",
              "      <td>128</td>\n",
              "      <td>6.35</td>\n",
              "      <td>11.2</td>\n",
              "      <td>2</td>\n",
              "      <td>3.02</td>\n",
              "      <td>1</td>\n",
              "      <td>False.</td>\n",
              "    </tr>\n",
              "    <tr>\n",
              "      <th>13</th>\n",
              "      <td>MT</td>\n",
              "      <td>95</td>\n",
              "      <td>510</td>\n",
              "      <td>394-8006</td>\n",
              "      <td>no</td>\n",
              "      <td>no</td>\n",
              "      <td>0</td>\n",
              "      <td>156.6</td>\n",
              "      <td>88</td>\n",
              "      <td>26.62</td>\n",
              "      <td>...</td>\n",
              "      <td>75</td>\n",
              "      <td>21.05</td>\n",
              "      <td>192.3</td>\n",
              "      <td>115</td>\n",
              "      <td>8.65</td>\n",
              "      <td>12.3</td>\n",
              "      <td>5</td>\n",
              "      <td>3.32</td>\n",
              "      <td>3</td>\n",
              "      <td>False.</td>\n",
              "    </tr>\n",
              "    <tr>\n",
              "      <th>14</th>\n",
              "      <td>IA</td>\n",
              "      <td>62</td>\n",
              "      <td>415</td>\n",
              "      <td>366-9238</td>\n",
              "      <td>no</td>\n",
              "      <td>no</td>\n",
              "      <td>0</td>\n",
              "      <td>120.7</td>\n",
              "      <td>70</td>\n",
              "      <td>20.52</td>\n",
              "      <td>...</td>\n",
              "      <td>76</td>\n",
              "      <td>26.11</td>\n",
              "      <td>203.0</td>\n",
              "      <td>99</td>\n",
              "      <td>9.14</td>\n",
              "      <td>13.1</td>\n",
              "      <td>6</td>\n",
              "      <td>3.54</td>\n",
              "      <td>4</td>\n",
              "      <td>False.</td>\n",
              "    </tr>\n",
              "    <tr>\n",
              "      <th>15</th>\n",
              "      <td>NY</td>\n",
              "      <td>161</td>\n",
              "      <td>415</td>\n",
              "      <td>351-7269</td>\n",
              "      <td>no</td>\n",
              "      <td>no</td>\n",
              "      <td>0</td>\n",
              "      <td>332.9</td>\n",
              "      <td>67</td>\n",
              "      <td>56.59</td>\n",
              "      <td>...</td>\n",
              "      <td>97</td>\n",
              "      <td>27.01</td>\n",
              "      <td>160.6</td>\n",
              "      <td>128</td>\n",
              "      <td>7.23</td>\n",
              "      <td>5.4</td>\n",
              "      <td>9</td>\n",
              "      <td>1.46</td>\n",
              "      <td>4</td>\n",
              "      <td>True.</td>\n",
              "    </tr>\n",
              "    <tr>\n",
              "      <th>16</th>\n",
              "      <td>ID</td>\n",
              "      <td>85</td>\n",
              "      <td>408</td>\n",
              "      <td>350-8884</td>\n",
              "      <td>no</td>\n",
              "      <td>yes</td>\n",
              "      <td>27</td>\n",
              "      <td>196.4</td>\n",
              "      <td>139</td>\n",
              "      <td>33.39</td>\n",
              "      <td>...</td>\n",
              "      <td>90</td>\n",
              "      <td>23.88</td>\n",
              "      <td>89.3</td>\n",
              "      <td>75</td>\n",
              "      <td>4.02</td>\n",
              "      <td>13.8</td>\n",
              "      <td>4</td>\n",
              "      <td>3.73</td>\n",
              "      <td>1</td>\n",
              "      <td>False.</td>\n",
              "    </tr>\n",
              "    <tr>\n",
              "      <th>17</th>\n",
              "      <td>VT</td>\n",
              "      <td>93</td>\n",
              "      <td>510</td>\n",
              "      <td>386-2923</td>\n",
              "      <td>no</td>\n",
              "      <td>no</td>\n",
              "      <td>0</td>\n",
              "      <td>190.7</td>\n",
              "      <td>114</td>\n",
              "      <td>32.42</td>\n",
              "      <td>...</td>\n",
              "      <td>111</td>\n",
              "      <td>18.55</td>\n",
              "      <td>129.6</td>\n",
              "      <td>121</td>\n",
              "      <td>5.83</td>\n",
              "      <td>8.1</td>\n",
              "      <td>3</td>\n",
              "      <td>2.19</td>\n",
              "      <td>3</td>\n",
              "      <td>False.</td>\n",
              "    </tr>\n",
              "    <tr>\n",
              "      <th>18</th>\n",
              "      <td>VA</td>\n",
              "      <td>76</td>\n",
              "      <td>510</td>\n",
              "      <td>356-2992</td>\n",
              "      <td>no</td>\n",
              "      <td>yes</td>\n",
              "      <td>33</td>\n",
              "      <td>189.7</td>\n",
              "      <td>66</td>\n",
              "      <td>32.25</td>\n",
              "      <td>...</td>\n",
              "      <td>65</td>\n",
              "      <td>18.09</td>\n",
              "      <td>165.7</td>\n",
              "      <td>108</td>\n",
              "      <td>7.46</td>\n",
              "      <td>10.0</td>\n",
              "      <td>5</td>\n",
              "      <td>2.70</td>\n",
              "      <td>1</td>\n",
              "      <td>False.</td>\n",
              "    </tr>\n",
              "    <tr>\n",
              "      <th>19</th>\n",
              "      <td>TX</td>\n",
              "      <td>73</td>\n",
              "      <td>415</td>\n",
              "      <td>373-2782</td>\n",
              "      <td>no</td>\n",
              "      <td>no</td>\n",
              "      <td>0</td>\n",
              "      <td>224.4</td>\n",
              "      <td>90</td>\n",
              "      <td>38.15</td>\n",
              "      <td>...</td>\n",
              "      <td>88</td>\n",
              "      <td>13.56</td>\n",
              "      <td>192.8</td>\n",
              "      <td>74</td>\n",
              "      <td>8.68</td>\n",
              "      <td>13.0</td>\n",
              "      <td>2</td>\n",
              "      <td>3.51</td>\n",
              "      <td>1</td>\n",
              "      <td>False.</td>\n",
              "    </tr>\n",
              "  </tbody>\n",
              "</table>\n",
              "<p>20 rows × 21 columns</p>\n",
              "</div>"
            ],
            "text/plain": [
              "   State  Account Length  Area Code     Phone Int'l Plan VMail Plan  \\\n",
              "0     KS             128        415  382-4657         no        yes   \n",
              "1     OH             107        415  371-7191         no        yes   \n",
              "2     NJ             137        415  358-1921         no         no   \n",
              "3     OH              84        408  375-9999        yes         no   \n",
              "4     OK              75        415  330-6626        yes         no   \n",
              "5     AL             118        510  391-8027        yes         no   \n",
              "6     MA             121        510  355-9993         no        yes   \n",
              "7     MO             147        415  329-9001        yes         no   \n",
              "8     LA             117        408  335-4719         no         no   \n",
              "9     WV             141        415  330-8173        yes        yes   \n",
              "10    IN              65        415  329-6603         no         no   \n",
              "11    RI              74        415  344-9403         no         no   \n",
              "12    IA             168        408  363-1107         no         no   \n",
              "13    MT              95        510  394-8006         no         no   \n",
              "14    IA              62        415  366-9238         no         no   \n",
              "15    NY             161        415  351-7269         no         no   \n",
              "16    ID              85        408  350-8884         no        yes   \n",
              "17    VT              93        510  386-2923         no         no   \n",
              "18    VA              76        510  356-2992         no        yes   \n",
              "19    TX              73        415  373-2782         no         no   \n",
              "\n",
              "    VMail Message  Day Mins  Day Calls  Day Charge  ...  Eve Calls  \\\n",
              "0              25     265.1        110       45.07  ...         99   \n",
              "1              26     161.6        123       27.47  ...        103   \n",
              "2               0     243.4        114       41.38  ...        110   \n",
              "3               0     299.4         71       50.90  ...         88   \n",
              "4               0     166.7        113       28.34  ...        122   \n",
              "5               0     223.4         98       37.98  ...        101   \n",
              "6              24     218.2         88       37.09  ...        108   \n",
              "7               0     157.0         79       26.69  ...         94   \n",
              "8               0     184.5         97       31.37  ...         80   \n",
              "9              37     258.6         84       43.96  ...        111   \n",
              "10              0     129.1        137       21.95  ...         83   \n",
              "11              0     187.7        127       31.91  ...        148   \n",
              "12              0     128.8         96       21.90  ...         71   \n",
              "13              0     156.6         88       26.62  ...         75   \n",
              "14              0     120.7         70       20.52  ...         76   \n",
              "15              0     332.9         67       56.59  ...         97   \n",
              "16             27     196.4        139       33.39  ...         90   \n",
              "17              0     190.7        114       32.42  ...        111   \n",
              "18             33     189.7         66       32.25  ...         65   \n",
              "19              0     224.4         90       38.15  ...         88   \n",
              "\n",
              "    Eve Charge  Night Mins  Night Calls  Night Charge  Intl Mins  Intl Calls  \\\n",
              "0        16.78       244.7           91         11.01       10.0           3   \n",
              "1        16.62       254.4          103         11.45       13.7           3   \n",
              "2        10.30       162.6          104          7.32       12.2           5   \n",
              "3         5.26       196.9           89          8.86        6.6           7   \n",
              "4        12.61       186.9          121          8.41       10.1           3   \n",
              "5        18.75       203.9          118          9.18        6.3           6   \n",
              "6        29.62       212.6          118          9.57        7.5           7   \n",
              "7         8.76       211.8           96          9.53        7.1           6   \n",
              "8        29.89       215.8           90          9.71        8.7           4   \n",
              "9        18.87       326.4           97         14.69       11.2           5   \n",
              "10       19.42       208.8          111          9.40       12.7           6   \n",
              "11       13.89       196.0           94          8.82        9.1           5   \n",
              "12        8.92       141.1          128          6.35       11.2           2   \n",
              "13       21.05       192.3          115          8.65       12.3           5   \n",
              "14       26.11       203.0           99          9.14       13.1           6   \n",
              "15       27.01       160.6          128          7.23        5.4           9   \n",
              "16       23.88        89.3           75          4.02       13.8           4   \n",
              "17       18.55       129.6          121          5.83        8.1           3   \n",
              "18       18.09       165.7          108          7.46       10.0           5   \n",
              "19       13.56       192.8           74          8.68       13.0           2   \n",
              "\n",
              "    Intl Charge  CustServ Calls  Churn?  \n",
              "0          2.70               1  False.  \n",
              "1          3.70               1  False.  \n",
              "2          3.29               0  False.  \n",
              "3          1.78               2  False.  \n",
              "4          2.73               3  False.  \n",
              "5          1.70               0  False.  \n",
              "6          2.03               3  False.  \n",
              "7          1.92               0  False.  \n",
              "8          2.35               1  False.  \n",
              "9          3.02               0  False.  \n",
              "10         3.43               4   True.  \n",
              "11         2.46               0  False.  \n",
              "12         3.02               1  False.  \n",
              "13         3.32               3  False.  \n",
              "14         3.54               4  False.  \n",
              "15         1.46               4   True.  \n",
              "16         3.73               1  False.  \n",
              "17         2.19               3  False.  \n",
              "18         2.70               1  False.  \n",
              "19         3.51               1  False.  \n",
              "\n",
              "[20 rows x 21 columns]"
            ]
          },
          "execution_count": 3,
          "metadata": {},
          "output_type": "execute_result"
        }
      ],
      "source": [
        "data.head(20)"
      ]
    },
    {
      "cell_type": "code",
      "execution_count": null,
      "id": "43d6245b",
      "metadata": {
        "id": "43d6245b"
      },
      "outputs": [],
      "source": [
        " matplotlib inline"
      ]
    },
    {
      "cell_type": "markdown",
      "id": "2e26b7f8",
      "metadata": {
        "id": "2e26b7f8"
      },
      "source": [
        "##### savefig(\"path_donde_guardar_in.extensión\")"
      ]
    },
    {
      "cell_type": "markdown",
      "id": "578c9a85",
      "metadata": {
        "id": "578c9a85"
      },
      "source": [
        "### Scatter plot"
      ]
    },
    {
      "cell_type": "code",
      "execution_count": null,
      "id": "00284385",
      "metadata": {
        "id": "00284385",
        "outputId": "531eaece-5a1a-4b77-a213-c3f895334b3b"
      },
      "outputs": [
        {
          "data": {
            "text/plain": [
              "<AxesSubplot:xlabel='Day Mins', ylabel='Day Charge'>"
            ]
          },
          "execution_count": 5,
          "metadata": {},
          "output_type": "execute_result"
        },
        {
          "data": {
            "image/png": "[encoded data removed]",
            "text/plain": [
              "<Figure size 432x288 with 1 Axes>"
            ]
          },
          "metadata": {
            "needs_background": "light"
          },
          "output_type": "display_data"
        }
      ],
      "source": [
        "data.plot(kind=\"scatter\", x=\"Day Mins\", y=\"Day Charge\")"
      ]
    },
    {
      "cell_type": "code",
      "execution_count": null,
      "id": "84046f06",
      "metadata": {
        "id": "84046f06",
        "outputId": "821e02cd-538c-4f8e-d43c-b498c43d832a"
      },
      "outputs": [
        {
          "data": {
            "text/plain": [
              "<AxesSubplot:xlabel='Night Mins', ylabel='Night Charge'>"
            ]
          },
          "execution_count": 6,
          "metadata": {},
          "output_type": "execute_result"
        },
        {
          "data": {
            "image/png": "[encoded data removed]",
            "text/plain": [
              "<Figure size 432x288 with 1 Axes>"
            ]
          },
          "metadata": {
            "needs_background": "light"
          },
          "output_type": "display_data"
        }
      ],
      "source": [
        "data.plot(kind=\"scatter\", x=\"Night Mins\", y=\"Night Charge\")"
      ]
    },
    {
      "cell_type": "code",
      "execution_count": null,
      "id": "1eb1f799",
      "metadata": {
        "id": "1eb1f799",
        "outputId": "520f6d7e-0cc5-4d3b-dd5d-cbbc9b17211b"
      },
      "outputs": [
        {
          "data": {
            "text/plain": [
              "<AxesSubplot:xlabel='Night Calls', ylabel='Night Charge'>"
            ]
          },
          "execution_count": 7,
          "metadata": {},
          "output_type": "execute_result"
        },
        {
          "data": {
            "image/png": "[encoded data removed]",
            "text/plain": [
              "<Figure size 432x288 with 4 Axes>"
            ]
          },
          "metadata": {
            "needs_background": "light"
          },
          "output_type": "display_data"
        }
      ],
      "source": [
        "figure, axs = plt.subplots(2,2, sharey=True, sharex=True)\n",
        "data.plot(kind=\"scatter\", x=\"Day Mins\", y=\"Day Charge\", ax=axs[0][0])\n",
        "data.plot(kind=\"scatter\", x=\"Night Mins\", y=\"Night Charge\", ax=axs[0][1])\n",
        "data.plot(kind=\"scatter\", x=\"Day Calls\", y=\"Day Charge\", ax=axs[1][0])\n",
        "data.plot(kind=\"scatter\", x=\"Night Calls\", y=\"Night Charge\", ax=axs[1][1])"
      ]
    },
    {
      "cell_type": "markdown",
      "id": "fdd993a2",
      "metadata": {
        "id": "fdd993a2"
      },
      "source": [
        "# Histograma de frecuencia"
      ]
    },
    {
      "cell_type": "code",
      "execution_count": null,
      "id": "a49ba578",
      "metadata": {
        "id": "a49ba578",
        "outputId": "6477dce8-d14d-4e8d-de77-66094c3ad420"
      },
      "outputs": [
        {
          "data": {
            "text/plain": [
              "Text(0.5, 1.0, 'Histograma del número de llamadas al día')"
            ]
          },
          "execution_count": 8,
          "metadata": {},
          "output_type": "execute_result"
        },
        {
          "data": {
            "image/png": "[encoded data removed]",
            "text/plain": [
              "<Figure size 432x288 with 1 Axes>"
            ]
          },
          "metadata": {
            "needs_background": "light"
          },
          "output_type": "display_data"
        }
      ],
      "source": [
        "k = int(np.ceil(1+np.log2(3333))) # regla de Sturges\n",
        "plt.hist(data[\"Day Calls\"], bins =k) # bins[0,30,60,90,120,150,180]\n",
        "plt.xlabel(\"Número de llamadas al día\")\n",
        "plt.ylabel(\"Frecuencia\")\n",
        "plt.title(\"Histograma del número de llamadas al día\")"
      ]
    },
    {
      "cell_type": "markdown",
      "id": "95c55b92",
      "metadata": {
        "id": "95c55b92"
      },
      "source": [
        "# boxplot, diagrama de cajas y bigotes"
      ]
    },
    {
      "cell_type": "code",
      "execution_count": null,
      "id": "70978cab",
      "metadata": {
        "id": "70978cab",
        "outputId": "085e3296-5663-488e-c349-e6925ce9607d"
      },
      "outputs": [
        {
          "data": {
            "text/plain": [
              "Text(0.5, 1.0, 'Boxplot de las llamadas diarias')"
            ]
          },
          "execution_count": 9,
          "metadata": {},
          "output_type": "execute_result"
        },
        {
          "data": {
            "image/png": "[encoded data removed]",
            "text/plain": [
              "<Figure size 432x288 with 1 Axes>"
            ]
          },
          "metadata": {
            "needs_background": "light"
          },
          "output_type": "display_data"
        }
      ],
      "source": [
        "plt.boxplot(data[\"Day Calls\"])\n",
        "plt.ylabel(\"Número de llamadas\")\n",
        "plt.title(\"Boxplot de las llamadas diarias\")"
      ]
    },
    {
      "cell_type": "code",
      "execution_count": null,
      "id": "00dcbdd6",
      "metadata": {
        "id": "00dcbdd6",
        "outputId": "de1423ab-71b3-4484-c52d-3d4c5ae4a482"
      },
      "outputs": [
        {
          "data": {
            "text/plain": [
              "count    3333.000000\n",
              "mean      100.435644\n",
              "std        20.069084\n",
              "min         0.000000\n",
              "25%        87.000000\n",
              "50%       101.000000\n",
              "75%       114.000000\n",
              "max       165.000000\n",
              "Name: Day Calls, dtype: float64"
            ]
          },
          "execution_count": 10,
          "metadata": {},
          "output_type": "execute_result"
        }
      ],
      "source": [
        "data[\"Day Calls\"].describe()"
      ]
    },
    {
      "cell_type": "code",
      "execution_count": null,
      "id": "5e789f8e",
      "metadata": {
        "id": "5e789f8e"
      },
      "outputs": [],
      "source": [
        "IQR = 114-87"
      ]
    },
    {
      "cell_type": "code",
      "execution_count": null,
      "id": "95caca12",
      "metadata": {
        "id": "95caca12",
        "outputId": "a2e0fa02-2bb4-444a-97a3-20ec1f9ead4c"
      },
      "outputs": [
        {
          "data": {
            "text/plain": [
              "27"
            ]
          },
          "execution_count": 12,
          "metadata": {},
          "output_type": "execute_result"
        }
      ],
      "source": [
        "IQR"
      ]
    },
    {
      "cell_type": "code",
      "execution_count": null,
      "id": "5b279c96",
      "metadata": {
        "id": "5b279c96",
        "outputId": "0fbb3c6d-31a5-4b27-8b11-f93c418e509e"
      },
      "outputs": [
        {
          "data": {
            "text/plain": [
              "27.0"
            ]
          },
          "execution_count": 13,
          "metadata": {},
          "output_type": "execute_result"
        }
      ],
      "source": [
        "IQR = data[\"Day Calls\"].quantile(0.75)-data[\"Day Calls\"].quantile(0.25)\n",
        "IQR"
      ]
    },
    {
      "cell_type": "code",
      "execution_count": null,
      "id": "3cf50bf2",
      "metadata": {
        "id": "3cf50bf2",
        "outputId": "2d6e2a0b-fe30-44ba-f5c5-6cd118ac2faf"
      },
      "outputs": [
        {
          "data": {
            "text/plain": [
              "46.5"
            ]
          },
          "execution_count": 14,
          "metadata": {},
          "output_type": "execute_result"
        }
      ],
      "source": [
        "data[\"Day Calls\"].quantile(0.25)-1.5*IQR"
      ]
    },
    {
      "cell_type": "code",
      "execution_count": null,
      "id": "461b0d74",
      "metadata": {
        "id": "461b0d74",
        "outputId": "81fb6719-a26b-4c19-c645-ac440e1954e2"
      },
      "outputs": [
        {
          "data": {
            "text/plain": [
              "154.5"
            ]
          },
          "execution_count": 15,
          "metadata": {},
          "output_type": "execute_result"
        }
      ],
      "source": [
        "data[\"Day Calls\"].quantile(0.75)+1.5*IQR"
      ]
    },
    {
      "cell_type": "code",
      "execution_count": null,
      "id": "005e76f0",
      "metadata": {
        "id": "005e76f0"
      },
      "outputs": [],
      "source": []
    },
    {
      "cell_type": "code",
      "execution_count": null,
      "id": "4ffc8552",
      "metadata": {
        "id": "4ffc8552"
      },
      "outputs": [],
      "source": []
    }
  ],
  "metadata": {
    "kernelspec": {
      "display_name": "Python 3",
      "language": "python",
      "name": "python3"
    },
    "language_info": {
      "codemirror_mode": {
        "name": "ipython",
        "version": 3
      },
      "file_extension": ".py",
      "mimetype": "text/x-python",
      "name": "python",
      "nbconvert_exporter": "python",
      "pygments_lexer": "ipython3",
      "version": "3.6.13"
    },
    "colab": {
      "provenance": [],
      "include_colab_link": true
    }
  },
  "nbformat": 4,
  "nbformat_minor": 5
}
