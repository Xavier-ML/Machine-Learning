{
  "nbformat": 4,
  "nbformat_minor": 0,
  "metadata": {
    "colab": {
      "provenance": [],
      "authorship_tag": "ABX9TyNm5gzMjrXDV+NlI5+CBesw",
      "include_colab_link": true
    },
    "kernelspec": {
      "name": "python3",
      "display_name": "Python 3"
    },
    "language_info": {
      "name": "python"
    }
  },
  "cells": [
    {
      "cell_type": "markdown",
      "metadata": {
        "id": "view-in-github",
        "colab_type": "text"
      },
      "source": [
        "<a href=\"https://colab.research.google.com/github/Xavier-ML/Machine-Learning/blob/main/M%C3%A9tricas_De_Evaluaci%C3%B3n_De_Modelos_En_El_Aprendizaje_Autom%C3%A1tico.ipynb\" target=\"_parent\"><img src=\"https://colab.research.google.com/assets/colab-badge.svg\" alt=\"Open In Colab\"/></a>"
      ]
    },
    {
      "cell_type": "markdown",
      "source": [
        "## MATRIZ DE CONFUSIÓN\n",
        "Matriz de confusión con 2 etiquetas de clase.\n",
        "\n",
        "Cada predicción puede ser uno de cuatro resultados, basado en cómo coincide con el valor real:\n",
        "* Verdadero Positivo (TP): Predicho Verdadero y Verdadero en realidad.\n",
        "* Verdadero Negativo (TN): Predicho Falso y Falso en realidad.\n",
        "* Falso Positivo (FP): Predicción de verdadero y falso en la realidad.\n",
        "* Falso Negativo (FN): Predicción de falso y verdadero en la realidad.\n"
      ],
      "metadata": {
        "id": "tiLMXDckoga4"
      }
    },
    {
      "cell_type": "code",
      "execution_count": 3,
      "metadata": {
        "colab": {
          "base_uri": "https://localhost:8080/",
          "height": 546
        },
        "id": "WAXkYwdMm3Pf",
        "outputId": "c9cf7688-285b-47e9-d7f9-e76b622bf722"
      },
      "outputs": [
        {
          "output_type": "stream",
          "name": "stdout",
          "text": [
            "[[13  0  0]\n",
            " [ 0 17  2]\n",
            " [ 0  0 18]]\n"
          ]
        },
        {
          "output_type": "display_data",
          "data": {
            "text/plain": [
              "<Figure size 640x480 with 2 Axes>"
            ],
            "image/png": "[encoded data removed]"
          },
          "metadata": {}
        }
      ],
      "source": [
        "import warnings\n",
        "import pandas as pd\n",
        "from sklearn import model_selection\n",
        "from sklearn.linear_model import LogisticRegression\n",
        "from sklearn.metrics import confusion_matrix\n",
        "import matplotlib.pyplot as plt\n",
        "%matplotlib inline\n",
        "\n",
        "#ignore warnings\n",
        "warnings.filterwarnings('ignore')\n",
        "# Load digits dataset\n",
        "url = \"http://archive.ics.uci.edu/ml/machine-learning-databases/iris/iris.data\"\n",
        "df = pd.read_csv(url)\n",
        "# df = df.values\n",
        "X = df.iloc[:,0:4]\n",
        "y = df.iloc[:,4]\n",
        "#test size\n",
        "test_size = 0.33\n",
        "#generate the same set of random numbers\n",
        "seed = 7\n",
        "#Split data into train and test set.\n",
        "X_train, X_test, y_train, y_test = model_selection.train_test_split(X, y, test_size=test_size, random_state=seed)\n",
        "#Train Model\n",
        "model = LogisticRegression()\n",
        "model.fit(X_train, y_train)\n",
        "pred = model.predict(X_test)\n",
        "\n",
        "#Construct the Confusion Matrix\n",
        "labels = ['Iris-setosa', 'Iris-versicolor', 'Iris-virginica']\n",
        "cm = confusion_matrix(y_test, pred)\n",
        "print(cm)\n",
        "fig = plt.figure()\n",
        "ax = fig.add_subplot(111)\n",
        "cax = ax.matshow(cm)\n",
        "plt.title('Confusion matrix')\n",
        "fig.colorbar(cax)\n",
        "ax.set_xticklabels([''] + labels)\n",
        "ax.set_yticklabels([''] + labels)\n",
        "plt.xlabel('Predicted Values')\n",
        "plt.ylabel('Actual Values')\n",
        "plt.show()"
      ]
    },
    {
      "cell_type": "markdown",
      "source": [
        "REFERENCIA\n",
        "* https://github.com/kearseya/RNAseq_ML"
      ],
      "metadata": {
        "id": "_gN5UHfDwds2"
      }
    },
    {
      "cell_type": "markdown",
      "source": [
        "## 1. Exactitud\n",
        "En general, ¿con qué frecuencia es correcto el clasificador?\n",
        "\n",
        "**Exactitud = (TP+TN)/total**\n",
        "\n",
        "**Cuando nuestras clases son aproximadamente iguales en tamaño, podemos usar la precisión, que nos dará valores clasificados correctamente.**\n",
        "\n",
        "La precisión es una métrica de evaluación común para los problemas de clasificación. Es el número de predicciones correctas hechas como una proporción de todas las predicciones hechas.\n",
        "\n",
        "* Tasa de clasificación errónea (Tasa de error): En general, con qué frecuencia se equivoca.\n",
        "* Dado que la exactitud es el porcentaje que clasificamos correctamente (tasa de éxito), se deduce que nuestra tasa de error (el porcentaje en que nos equivocamos) puede calcularse de la siguiente manera:\n",
        "\n",
        "**Tasa de clasificación errónea = (FP+FN)/total**"
      ],
      "metadata": {
        "id": "n3fQzMbBuh30"
      }
    },
    {
      "cell_type": "code",
      "source": [
        "#import modules\n",
        "import warnings\n",
        "import pandas as pd\n",
        "import numpy as np\n",
        "from sklearn import model_selection\n",
        "from sklearn.linear_model import LogisticRegression\n",
        "from sklearn import datasets\n",
        "from sklearn.metrics import accuracy_score\n",
        "#ignore warnings\n",
        "warnings.filterwarnings('ignore')\n",
        "# Load digits dataset\n",
        "iris = datasets.load_iris()\n",
        "# # Create feature matrix\n",
        "X = iris.data\n",
        "# Create target vector\n",
        "y = iris.target\n",
        "#test size\n",
        "test_size = 0.33\n",
        "#generate the same set of random numbers\n",
        "seed = 7\n",
        "#cross-validation settings\n",
        "kfold = model_selection.KFold(n_splits=10, random_state=seed, shuffle=True)\n",
        "#Model instance\n",
        "model = LogisticRegression()\n",
        "#Evaluate model performance\n",
        "scoring = 'accuracy'\n",
        "results = model_selection.cross_val_score(model, X, y, cv=kfold, scoring=scoring)\n",
        "print('Accuracy -val set: %.2f%% (%.2f)' % (results.mean()*100, results.std()))\n",
        "\n",
        "#split data\n",
        "X_train, X_test, y_train, y_test = model_selection.train_test_split(X, y, test_size=test_size, random_state=seed)\n",
        "#fit model\n",
        "model.fit(X_train, y_train)\n",
        "#accuracy on test set\n",
        "result = model.score(X_test, y_test)\n",
        "print(\"Accuracy - test set: %.2f%%\" % (result*100.0))"
      ],
      "metadata": {
        "colab": {
          "base_uri": "https://localhost:8080/"
        },
        "id": "2GbKdd42tE9m",
        "outputId": "689a9f57-c534-4831-933a-8e6328bcf0b8"
      },
      "execution_count": 7,
      "outputs": [
        {
          "output_type": "stream",
          "name": "stdout",
          "text": [
            "Accuracy -val set: 96.67% (0.05)\n",
            "Accuracy - test set: 92.00%\n"
          ]
        }
      ]
    },
    {
      "cell_type": "markdown",
      "source": [
        "## Referencias\n",
        "* https://www.datasource.ai/en/competition-slug"
      ],
      "metadata": {
        "id": "8hb1ermu7m1j"
      }
    },
    {
      "cell_type": "markdown",
      "source": [
        "## 2. Precisión\n",
        "Cuando predice sí, ¿con qué frecuencia es correcto?\n",
        "\n",
        "**Precisión=TP/predicciones sí**\n",
        "\n",
        "**Cuando tenemos un desequilibrio de clase**, la precisión puede convertirse en una métrica poco fiable para medir nuestro desempeño. Por ejemplo, si tuviéramos una división de 99/1 entre dos clases, A y B, donde el evento raro, B, es nuestra clase positiva, podríamos construir un modelo que fuera 99% exacto con sólo decir que todo pertenece a la clase A. Claramente, no deberíamos molestarnos en construir un modelo si no hace nada para identificar la clase B; por lo tanto, necesitamos diferentes métricas que desalienten este comportamiento. Para ello, utilizamos la precisión y la sensibilidad en lugar de la exactitud."
      ],
      "metadata": {
        "id": "LfN1ScT882_i"
      }
    },
    {
      "cell_type": "markdown",
      "source": [
        "## 3. Exhaustividad\n",
        "Cuando en realidad es un sí, ¿con qué frecuencia predice un sí?\n",
        "\n",
        "**Tasa positiva verdadera = TP/Si reales**\n",
        "\n",
        "La Exhaustividad nos da la tasa positiva verdadera (TPR), que es la proporción de los verdaderos positivos a todo lo positivo.\n",
        "\n",
        "En el caso de la división 99/1 entre las clases A y B, el modelo que clasifica todo como A tendría una exhaustividad del 0% para la clase positiva, B (la precisión sería indefinida - 0/0). La exhaustividad  proporciona una mejor manera de evaluar el rendimiento del modelo ante un desequilibrio de clases. Nos dirá correctamente que el modelo tiene poco valor para nuestro caso de uso.\n",
        "\n",
        "Al igual que la exactitud, tanto la precisión como la exhaustividad son fáciles de calcular y comprender, pero requieren umbrales. Además, la precisión y la exhaustividad sólo consideran la mitad de la matriz de confusión."
      ],
      "metadata": {
        "id": "Mg53kAS-90wc"
      }
    },
    {
      "cell_type": "markdown",
      "source": [
        "## 4. Puntuación F1\n",
        "**La puntuación F1 es la media armónica de la precisión y exhaustividad, donde la puntuación de la F1 alcanza su mejor valor en 1 (precisión y exhaustividad perfectas) y el peor en 0.**\n",
        "¿Por qué la media armónica? **Dado que la media armónica de una lista de números se inclina fuertemente hacia últimos elementos de la lista, tiende (en comparación con la media aritmética) a mitigar el impacto de los grandes valores atípicos y a agravar el impacto de los pequeños.**\n",
        "\n",
        "Una puntuación F1 castiga más los valores extremos. Idealmente, un puntaje F1 podría ser una métrica de evaluación efectiva en los siguientes escenarios de clasificación:\n",
        "\n",
        "* **Cuando los Falsos Positivos  y la Falsos Negativos son igualmente costosos** - lo que significa que se pasan verdaderos positivos o se encuentran falsos positivos - ambos impactan el modelo casi de la misma manera, como en nuestro ejemplo de clasificación de detección de cáncer\n",
        "* Añadir más datos no cambia el resultado de manera efectiva\n",
        "* La TN es alta (como en las predicciones de inundaciones, predicciones de cáncer, etc.)"
      ],
      "metadata": {
        "id": "ZLK4D966AWSa"
      }
    },
    {
      "cell_type": "code",
      "source": [
        "import warnings\n",
        "import pandas\n",
        "from sklearn import model_selection\n",
        "from sklearn.linear_model import LogisticRegression\n",
        "from sklearn.metrics import log_loss\n",
        "from sklearn.metrics import precision_recall_fscore_support as score, precision_score, recall_score, f1_score\n",
        "\n",
        "warnings.filterwarnings('ignore')\n",
        "\n",
        "url = \"https://raw.githubusercontent.com/jbrownlee/Datasets/master/pima-indians-diabetes.data.csv\"\n",
        "dataframe = pandas.read_csv(url)\n",
        "dat = dataframe.values\n",
        "X = dat[:,:-1]\n",
        "y = dat[:,-1]\n",
        "test_size = 0.33\n",
        "seed = 7\n",
        "\n",
        "model = LogisticRegression()\n",
        "#split data\n",
        "X_train, X_test, y_train, y_test = model_selection.train_test_split(X, y, test_size=test_size, random_state=seed)\n",
        "model.fit(X_train, y_train)\n",
        "\n",
        "# Generate predictions on the test set\n",
        "pred = model.predict(X_test) # This line was missing\n",
        "\n",
        "precision = precision_score(y_test, pred)\n",
        "print('Precision: %f' % precision)\n",
        "# recall: tp / (tp + fn)\n",
        "recall = recall_score(y_test, pred)\n",
        "print('Recall: %f' % recall)\n",
        "# f1: tp / (tp + fp + fn)\n",
        "f1 = f1_score(y_test, pred)\n",
        "print('F1 score: %f' % f1)"
      ],
      "metadata": {
        "colab": {
          "base_uri": "https://localhost:8080/"
        },
        "id": "UAjEHQccS4Ve",
        "outputId": "d61e56c5-fdff-4ccd-ca35-bded5603fb9b"
      },
      "execution_count": 11,
      "outputs": [
        {
          "output_type": "stream",
          "name": "stdout",
          "text": [
            "Precision: 0.701493\n",
            "Recall: 0.552941\n",
            "F1 score: 0.618421\n"
          ]
        }
      ]
    },
    {
      "cell_type": "markdown",
      "source": [
        "## 5. Especificidad\n",
        "Cuando es no, ¿con qué frecuencia predice el no?\n",
        "\n",
        "**Tasa negativa real = TN/no real**\n",
        "\n",
        "**Es la verdadera tasa negativa o la proporción de verdaderos negativos a todo lo que debería haber sido clasificado como negativo.**\n",
        "Obsérvese que, en conjunto, la especificidad y la sensibilidad consideran la matriz de confusión completa:"
      ],
      "metadata": {
        "id": "x22l8FulXN2V"
      }
    },
    {
      "cell_type": "markdown",
      "source": [
        "## 6. Curva de características operativas del receptor (ROC)\n",
        "Medir el área bajo la curva ROC es también un método muy útil para evaluar un modelo. Al trazar la tasa positiva verdadera (sensibilidad) frente a la tasa de falsos positivos (1 - especificidad), obtenemos **la curva de Característica Operativa del Receptor (ROC)**. Esta curva nos permite visualizar el equilibrio entre la tasa de verdaderos positivos y la tasa falsos positivos\n",
        "\n",
        "Los siguientes son ejemplos de buenas curvas ROC. La línea discontinua sería una suposición aleatoria (sin valor predictivo) y se utiliza como línea de base; cualquier cosa por debajo de eso se considera peor que una suposición. Queremos estar hacia la esquina superior izquierda:"
      ],
      "metadata": {
        "id": "7jvW8QhWk2ha"
      }
    },
    {
      "cell_type": "code",
      "source": [
        "#Classification Area under curve\n",
        "import warnings\n",
        "import pandas\n",
        "from sklearn import model_selection\n",
        "from sklearn.linear_model import LogisticRegression\n",
        "from sklearn.metrics import roc_auc_score, roc_curve\n",
        "\n",
        "warnings.filterwarnings('ignore')\n",
        "\n",
        "url = \"https://raw.githubusercontent.com/jbrownlee/Datasets/master/pima-indians-diabetes.data.csv\"\n",
        "dataframe = pandas.read_csv(url)\n",
        "dat = dataframe.values\n",
        "X = dat[:,:-1]\n",
        "y = dat[:,-1]\n",
        "seed = 7\n",
        "#split data\n",
        "X_train, X_test, y_train, y_test = model_selection.train_test_split(X, y, test_size=test_size, random_state=seed)\n",
        "model.fit(X_train, y_train)\n",
        "\n",
        "# predict probabilities\n",
        "probs = model.predict_proba(X_test)\n",
        "# keep probabilities for the positive outcome only\n",
        "probs = probs[:, 1]\n",
        "\n",
        "auc = roc_auc_score(y_test, probs)\n",
        "print('AUC - Test Set: %.2f%%' % (auc*100))\n",
        "\n",
        "# calculate roc curve\n",
        "fpr, tpr, thresholds = roc_curve(y_test, probs)\n",
        "# plot no skill\n",
        "plt.plot([0, 1], [0, 1], linestyle='--')\n",
        "# plot the roc curve for the model\n",
        "plt.plot(fpr, tpr, marker='.')\n",
        "plt.xlabel('False positive rate')\n",
        "plt.ylabel('Sensitivity/ Recall')\n",
        "# show the plot\n",
        "plt.show()"
      ],
      "metadata": {
        "colab": {
          "base_uri": "https://localhost:8080/",
          "height": 466
        },
        "id": "vTVWP2EmWbY6",
        "outputId": "ffd9f356-9c32-4ba9-dfd8-e41d5145756d"
      },
      "execution_count": 12,
      "outputs": [
        {
          "output_type": "stream",
          "name": "stdout",
          "text": [
            "AUC - Test Set: 82.85%\n"
          ]
        },
        {
          "output_type": "display_data",
          "data": {
            "text/plain": [
              "<Figure size 640x480 with 1 Axes>"
            ],
            "image/png": "[encoded data removed]"
          },
          "metadata": {}
        }
      ]
    },
    {
      "cell_type": "markdown",
      "source": [
        "En el ejemplo anterior, la AUC está relativamente cerca de 1 y es mayor de 0,5. Un clasificador perfecto hará que la curva ROC vaya a lo largo del eje Y y luego a lo largo del eje X."
      ],
      "metadata": {
        "id": "C1J-FsMbl1Cd"
      }
    },
    {
      "cell_type": "markdown",
      "source": [
        "## 7. Pérdida logarítmica\n",
        "La pérdida logarítmica es la métrica de clasificación más importante basada en **probabilidades**.\n",
        "\n",
        "A medida que la probabilidad predicha de la clase verdadera se acerca a cero, la pérdida\n",
        "aumenta exponencialmente:\n",
        "\n",
        "**Mide el desempeño de un modelo de clasificación en el que la entrada de la predicción es un valor de probabilidad entre 0 y 1. La pérdida logarítmica aumenta a medida que la probabilidad predicha se aleja de la etiqueta real.** El objetivo de cualquier modelo de aprendizaje automático es minimizar este valor. Por lo tanto, una pérdida logarítmica menor es mejor, con un modelo perfecto teniendo una pérdida logarítmica de 0."
      ],
      "metadata": {
        "id": "K_nRPZzimIJz"
      }
    },
    {
      "cell_type": "code",
      "source": [
        "#Classification LogLoss\n",
        "import warnings\n",
        "import pandas\n",
        "from sklearn import model_selection\n",
        "from sklearn.linear_model import LogisticRegression\n",
        "from sklearn.metrics import log_loss\n",
        "\n",
        "warnings.filterwarnings('ignore')\n",
        "url = \"https://raw.githubusercontent.com/jbrownlee/Datasets/master/pima-indians-diabetes.data.csv\"\n",
        "dataframe = pandas.read_csv(url)\n",
        "dat = dataframe.values\n",
        "X = dat[:,:-1]\n",
        "y = dat[:,-1]\n",
        "seed = 7\n",
        "#split data\n",
        "X_train, X_test, y_train, y_test = model_selection.train_test_split(X, y, test_size=test_size, random_state=seed)\n",
        "model.fit(X_train, y_train)\n",
        "#predict and compute logloss\n",
        "pred = model.predict(X_test)\n",
        "accuracy = log_loss(y_test, pred)\n",
        "print(\"Logloss: %.2f\" % (accuracy))"
      ],
      "metadata": {
        "colab": {
          "base_uri": "https://localhost:8080/"
        },
        "id": "0IQ5zP42mHED",
        "outputId": "4b2d5740-6a38-45d8-9061-09a7a37e3fba"
      },
      "execution_count": 13,
      "outputs": [
        {
          "output_type": "stream",
          "name": "stdout",
          "text": [
            "Logloss: 8.23\n"
          ]
        }
      ]
    },
    {
      "cell_type": "markdown",
      "source": [
        "## 8. Índice Jaccard\n",
        "El índice Jaccard es una de las formas más simples de calcular y averiguar la exactitud de un modelo de clasificación de aprendizaje automático. Entendamoslo con un ejemplo. Supongamos que tenemos un conjunto de pruebas etiquetadas, con etiquetas como -\n",
        "\n",
        "y = [0,0,0,0,0,1,1,1,1,1]\n",
        "\n",
        "Y nuestro modelo ha predicho las etiquetas como…\n",
        "\n",
        "y1 = [1,1,0,0,0,1,1,1,1,1]\n",
        "\n",
        "El anterior diagrama de Venn nos muestra las etiquetas del conjunto de pruebas y las etiquetas de las predicciones, y su intersección y unión.\n",
        "\n",
        "**El índice Jaccard o coeficiente de similitud Jaccard** es una estadística utilizada para comprender las similitudes entre los conjuntos de muestras. La medición enfatiza la similitud entre conjuntos de muestras finitas y se define formalmente como el tamaño de la intersección dividido por el tamaño de la unión de los dos conjuntos etiquetados.\n",
        "\n",
        "**Índice Jaccard o Intersección sobre Unión(IoU)**\n",
        "\n",
        "Así, para nuestro ejemplo, podemos ver que la intersección de los dos conjuntos es igual a 8 (ya que ocho valores se predicen correctamente) y la unión es 10 + 10-8 = 12.\n",
        "Así que la precisión de nuestro modelo, según el índice Jaccard, se convierte en 0.66, o 66%.\n",
        "\n",
        "Cuanto mayor sea el índice Jaccard, mayor será la precisión del clasificador."
      ],
      "metadata": {
        "id": "T_C0MxTTn-dH"
      }
    },
    {
      "cell_type": "code",
      "source": [
        "import numpy as np\n",
        "\n",
        "def compute_jaccard_similarity_score(x, y):\n",
        "    intersection_cardinality = len(set(x).intersection(set(y)))\n",
        "    union_cardinality = len(set(x).union(set(y)))\n",
        "    return intersection_cardinality / float(union_cardinality)\n",
        "\n",
        "score = compute_jaccard_similarity_score(np.array([0, 1, 2, 5, 6]), np.array([0, 2, 3, 5, 7, 9]))\n",
        "print(\"Jaccard Similarity Score : %s\" %score)\n",
        "pass"
      ],
      "metadata": {
        "colab": {
          "base_uri": "https://localhost:8080/"
        },
        "id": "IGFuYGhulh9D",
        "outputId": "a0841643-6d38-438c-8951-c8fc2da3da98"
      },
      "execution_count": 15,
      "outputs": [
        {
          "output_type": "stream",
          "name": "stdout",
          "text": [
            "Jaccard Similarity Score : 0.375\n"
          ]
        }
      ]
    },
    {
      "cell_type": "markdown",
      "source": [
        "## 9. Gráfico de Kolmogorov Smirnov\n",
        "**El gráfico K-S o Kolmogorov-Smirnov** mide el rendimiento de los modelos de clasificación. Más exactamente, K-S es una medida del grado de separación entre las distribuciones positivas y negativas.\n",
        "\n",
        "La frecuencia acumulativa de las distribuciones observadas y de las hipótesis se traza en relación con las frecuencias ordenadas. La doble flecha vertical indica la máxima diferencia vertical.\n",
        "\n",
        "La K-S es 100 si las puntuaciones dividen la población en dos grupos separados en los que un grupo contiene todos los positivos y el otro todos los negativos. Por otra parte, si el modelo no puede diferenciar entre los positivos y los negativos, entonces es como si el modelo seleccionara casos al azar de la población. El K-S sería 0.\n",
        "\n",
        "En la mayoría de los modelos de clasificación la K-S caerá entre 0 y 100, y cuanto más alto sea el valor mejor será el modelo para separar los casos positivos de los negativos.\n",
        "\n",
        "La K-S también puede utilizarse para comprobar si dos distribuciones de probabilidad unidimensionales subyacentes difieren. Es una forma muy eficiente de determinar si dos muestras son significativamente diferentes entre sí.\n"
      ],
      "metadata": {
        "id": "9WWbpzkMq2Bh"
      }
    },
    {
      "cell_type": "code",
      "source": [
        "from scipy.stats import kstest\n",
        "import random\n",
        "\n",
        "# N = int(input(\"Enter number of random numbers: \"))\n",
        "N = 10\n",
        "\n",
        "actual =[]\n",
        "print(\"Enter outcomes: \")\n",
        "\n",
        "for i in range(N):\n",
        "    # x = float(input(\"Outcomes of class \"+str(i + 1)+\": \"))\n",
        "    actual.append(random.random())\n",
        "\n",
        "print(actual)\n",
        "x = kstest(actual, \"norm\")\n",
        "print(x)"
      ],
      "metadata": {
        "colab": {
          "base_uri": "https://localhost:8080/"
        },
        "id": "rXfYaPrVpzj3",
        "outputId": "7d7629d5-f3ef-4aa8-a23f-5e2290b5db20"
      },
      "execution_count": 17,
      "outputs": [
        {
          "output_type": "stream",
          "name": "stdout",
          "text": [
            "Enter outcomes: \n",
            "[0.8410283450074739, 0.14164387295919312, 0.48716072393061804, 0.5740336242512829, 0.33836496413794337, 0.086553001993938, 0.7829747307961552, 0.06708275410389464, 0.2547713196399961, 0.5996238057161453]\n",
            "KstestResult(statistic=0.5267420884015618, pvalue=0.004111946220386577, statistic_location=0.06708275410389464, statistic_sign=-1)\n"
          ]
        }
      ]
    },
    {
      "cell_type": "markdown",
      "source": [
        "La hipótesis nula utilizada aquí asume que los números siguen la distribución normal. Devuelve estadísticas y valor p. Si el valor p es < alfa, rechazamos la hipótesis Nula.\n",
        "\n",
        "Alfa se define como la probabilidad de rechazar la hipótesis nula dado que la hipótesis nula(H0) es verdadera. Para la mayoría de las aplicaciones prácticas, se elige alfa como 0,05."
      ],
      "metadata": {
        "id": "YIhN-inXstBQ"
      }
    },
    {
      "cell_type": "markdown",
      "source": [
        "## 10. Gráfico de ganancia y elevación\n",
        "La ganancia o el levantamiento es una medida de la eficacia de un modelo de clasificación calculado como la relación entre los resultados obtenidos con y sin el modelo. Los gráficos de ganancia y elevación son ayudas visuales para evaluar el rendimiento de los modelos de clasificación. Sin embargo, en contraste con la matriz de confusión que evalúa los modelos en toda la población, el gráfico de ganancia o elevación evalúa el rendimiento del modelo en una porción de la población.\n",
        "\n",
        "Cuanto mayor sea la elevación (es decir, cuanto más lejos esté de la línea de base), mejor será el modelo.\n",
        "\n",
        "El siguiente gráfico de ganancias, ejecutado en un conjunto de validación, muestra que con el 50% de los datos, el modelo contiene el 90% de los objetivos, la adición de más datos añade un aumento insignificante en el porcentaje de objetivos incluidos en el modelo.\n",
        "\n",
        "\n",
        "\n",
        "Gráfico de ganancia/elevación\n",
        "Los gráficos de elevación suelen presentarse como un gráfico de ascenso acumulativo, que también se conoce como gráfico de ganancias. Por lo tanto, los gráficos de ganancias a veces se denominan (quizás de forma confusa) \"gráficos de elevación\", pero son más exactos como gráficos de ascenso acumulativo.\n",
        "\n",
        "Uno de sus usos más comunes es en el marketing, para decidir si vale la pena llamar a un posible cliente."
      ],
      "metadata": {
        "id": "cZhE6bN6CQq7"
      }
    },
    {
      "cell_type": "markdown",
      "source": [
        "## 11. Coeficiente de Gini\n",
        "El coeficiente de Gini o Índice de Gini es una métrica popular para los valores de clase desequilibrados. El coeficiente oscila entre 0 y 1, donde 0 representa la igualdad perfecta y 1 la desigualdad perfecta. Aquí, si el valor de un índice es mayor, entonces los datos estarán más dispersos.\n",
        "\n",
        "El coeficiente de Gini puede calcularse a partir del área bajo la curva ROC usando la siguiente fórmula:\n",
        "\n",
        "**Coeficiente de Gini = (2 * curva_ROC) - 1**"
      ],
      "metadata": {
        "id": "8BxldIsog2If"
      }
    },
    {
      "cell_type": "markdown",
      "source": [
        "## REFERENCIA\n",
        "* https://www.datasource.ai/es/data-science-articles/metricas-de-evaluacion-de-modelos-en-el-aprendizaje-automatico"
      ],
      "metadata": {
        "id": "P1Mg1u7bi3p3"
      }
    },
    {
      "cell_type": "code",
      "source": [],
      "metadata": {
        "id": "yGOIUh1Gi9cN"
      },
      "execution_count": null,
      "outputs": []
    }
  ]
}